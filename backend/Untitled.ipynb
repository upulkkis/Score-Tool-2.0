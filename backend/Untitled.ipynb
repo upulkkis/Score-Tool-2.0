{
 "cells": [
  {
   "cell_type": "code",
   "execution_count": 36,
   "id": "174d53d3",
   "metadata": {},
   "outputs": [],
   "source": [
    "import pickle"
   ]
  },
  {
   "cell_type": "code",
   "execution_count": 37,
   "id": "f857dcc3",
   "metadata": {},
   "outputs": [],
   "source": [
    "import numpy as np"
   ]
  },
  {
   "cell_type": "code",
   "execution_count": 38,
   "id": "b5cd539b",
   "metadata": {},
   "outputs": [],
   "source": [
    "from dtw import dtw"
   ]
  },
  {
   "cell_type": "code",
   "execution_count": 39,
   "id": "af523374",
   "metadata": {},
   "outputs": [],
   "source": [
    "with open('./no_data_orchestra.pickle', 'rb') as handle:\n",
    "    orchestra = pickle.load(handle)"
   ]
  },
  {
   "cell_type": "code",
   "execution_count": 99,
   "id": "5a53fd28",
   "metadata": {},
   "outputs": [],
   "source": [
    "im1 = orchestra['flute']['normal']['mf'][62]['masking_curve']"
   ]
  },
  {
   "cell_type": "code",
   "execution_count": 187,
   "id": "dfff5e93",
   "metadata": {},
   "outputs": [],
   "source": [
    "in1 = orchestra['flute']['normal']['mf'][62]['mfcc']"
   ]
  },
  {
   "cell_type": "code",
   "execution_count": 191,
   "id": "569ceef6",
   "metadata": {},
   "outputs": [
    {
     "data": {
      "text/plain": [
       "numpy.ndarray"
      ]
     },
     "execution_count": 191,
     "metadata": {},
     "output_type": "execute_result"
    }
   ],
   "source": [
    "type(in1)"
   ]
  },
  {
   "cell_type": "code",
   "execution_count": null,
   "id": "53563de8",
   "metadata": {},
   "outputs": [],
   "source": [
    "im2 = orchestra['trumpet']['normal']['p'][65]['masking_curve']"
   ]
  },
  {
   "cell_type": "code",
   "execution_count": null,
   "id": "3dadff1c",
   "metadata": {},
   "outputs": [],
   "source": [
    "in2 = orchestra['trumpet']['normal']['p'][65]['mfcc']"
   ]
  },
  {
   "cell_type": "code",
   "execution_count": null,
   "id": "224c8d81",
   "metadata": {},
   "outputs": [],
   "source": [
    "in2"
   ]
  },
  {
   "cell_type": "code",
   "execution_count": 109,
   "id": "432eb4c9",
   "metadata": {},
   "outputs": [
    {
     "ename": "ValueError",
     "evalue": "operands could not be broadcast together with shapes (107,) (12,) ",
     "output_type": "error",
     "traceback": [
      "\u001b[1;31m---------------------------------------------------------------------------\u001b[0m",
      "\u001b[1;31mValueError\u001b[0m                                Traceback (most recent call last)",
      "\u001b[1;32m~\\AppData\\Local\\Temp/ipykernel_23592/1186183220.py\u001b[0m in \u001b[0;36m<module>\u001b[1;34m\u001b[0m\n\u001b[1;32m----> 1\u001b[1;33m \u001b[0mi1\u001b[0m\u001b[1;33m,\u001b[0m \u001b[0mi2\u001b[0m \u001b[1;33m=\u001b[0m \u001b[0mim1\u001b[0m\u001b[1;33m*\u001b[0m\u001b[0min1\u001b[0m\u001b[1;33m,\u001b[0m\u001b[0mim2\u001b[0m\u001b[1;33m*\u001b[0m\u001b[0min2\u001b[0m\u001b[1;33m\u001b[0m\u001b[1;33m\u001b[0m\u001b[0m\n\u001b[0m",
      "\u001b[1;31mValueError\u001b[0m: operands could not be broadcast together with shapes (107,) (12,) "
     ]
    }
   ],
   "source": [
    "i1, i2 = im1*in1,im2*in2"
   ]
  },
  {
   "cell_type": "code",
   "execution_count": 104,
   "id": "1455b185",
   "metadata": {},
   "outputs": [],
   "source": [
    "l2_norm = lambda x, y: (x - y) ** 2"
   ]
  },
  {
   "cell_type": "code",
   "execution_count": 189,
   "id": "51164c57",
   "metadata": {},
   "outputs": [],
   "source": [
    "dist, cost_matrix, acc_cost_matrix, path = dtw(in1, in2, dist=l2_norm)"
   ]
  },
  {
   "cell_type": "code",
   "execution_count": 89,
   "id": "d9474f1b",
   "metadata": {},
   "outputs": [
    {
     "data": {
      "text/plain": [
       "2020.6950487994072"
      ]
     },
     "execution_count": 89,
     "metadata": {},
     "output_type": "execute_result"
    }
   ],
   "source": [
    "dist"
   ]
  },
  {
   "cell_type": "code",
   "execution_count": 90,
   "id": "9dc9adda",
   "metadata": {},
   "outputs": [
    {
     "data": {
      "text/plain": [
       "dict_keys(['masking_curve', 'mfcc', 'centroid', 'peaks'])"
      ]
     },
     "execution_count": 90,
     "metadata": {},
     "output_type": "execute_result"
    }
   ],
   "source": [
    "orchestra['flute']['normal']['mf'][62].keys()"
   ]
  },
  {
   "cell_type": "code",
   "execution_count": 106,
   "id": "df3d6abd",
   "metadata": {},
   "outputs": [
    {
     "data": {
      "text/plain": [
       "[array([ -1.20665417,  13.18771006,  29.79827049,  55.06063585,\n",
       "         41.26280213,  34.74699728,  51.27033875,  38.99371473,\n",
       "         31.05077255,  32.1244381 ,  48.73657874,  38.76363491,\n",
       "         31.60029798,  37.90162377,  30.16446642,  28.71363969,\n",
       "         38.15415127,  31.34252418,  27.04257435,  32.69602127,\n",
       "         41.36801349,  35.94374249,  31.56144918,  31.70266866,\n",
       "         27.48435442,  24.01463516,  21.74417987,  21.95578523,\n",
       "         19.51572306,  18.96760503,  20.69953723,  18.90935316,\n",
       "         19.33490896,  21.59226435,  18.62811198,  15.78429246,\n",
       "         13.11785051,  10.62207972,   8.36223524,   6.48746786,\n",
       "          5.49140263,   4.26711265,   3.60690961,   3.52672976,\n",
       "          3.99658616,   2.89118333,   2.44007346,   2.66312761,\n",
       "          3.41117265,   5.71508838,   1.94909557,  -1.66371265,\n",
       "         -5.10432253,  -8.3309057 , -11.17719166, -13.46109247,\n",
       "        -15.37848916, -16.87172241, -17.94826387, -18.63747989,\n",
       "        -18.99678862, -19.07500539, -18.87711547, -18.39039872,\n",
       "        -17.55293424, -16.37684472, -14.8969985 , -13.19942438,\n",
       "        -11.90030173, -10.78386236,  -9.63096335,  -8.64876792,\n",
       "         -7.73280768,  -5.94015097,  -4.30465652,  -5.65820463,\n",
       "         -5.8566811 ,  -7.36051521,  -8.12338974,  -8.23721444,\n",
       "         -9.62911729, -10.49703751, -10.90910354, -10.98628072,\n",
       "        -10.84207081, -10.57035755, -11.92346993, -13.12170894,\n",
       "        -14.1772828 , -15.09128201, -15.87986052, -16.54068498,\n",
       "        -17.10328874, -17.57649932, -17.96415884, -18.28489725,\n",
       "        -18.55358935, -18.77343055, -18.95288742, -19.10556934,\n",
       "        -19.22967063, -19.33302756, -19.41918926, -19.49299207,\n",
       "        -19.55459172, -19.60610806, -19.65059281]),\n",
       " array([ -440.88507155,   741.67084988, -1718.16982217,   231.27011236,\n",
       "         -882.74821193, -1955.23741165,  -277.05702694,   119.59076591,\n",
       "        -1113.29873138,    44.14353458,   232.24965075,   687.88941545])]"
      ]
     },
     "execution_count": 106,
     "metadata": {},
     "output_type": "execute_result"
    }
   ],
   "source": [
    "i1"
   ]
  },
  {
   "cell_type": "code",
   "execution_count": 130,
   "id": "87b3baab",
   "metadata": {},
   "outputs": [],
   "source": [
    "peaks1 = orchestra['trumpet']['normal']['p'][65]['peaks']"
   ]
  },
  {
   "cell_type": "code",
   "execution_count": 212,
   "id": "9f07c4ad",
   "metadata": {},
   "outputs": [],
   "source": [
    "def fake_spec(peaks):\n",
    "    map = np.ones(2205)\n",
    "    peaks[0] = peaks[0]/10\n",
    "    peaks[0] = peaks[0].astype(int)\n",
    "    map[peaks[0]] = peaks[1]\n",
    "    map[peaks[0]-1] = peaks[1]/1.5\n",
    "    map[peaks[0]-2] = peaks[1]/2\n",
    "    map[peaks[0]-3] = peaks[1]/4\n",
    "    map[peaks[0]+1] = peaks[1]/1.5\n",
    "    map[peaks[0]+2] = peaks[1]/2\n",
    "    map[peaks[0]+3] = peaks[1]/4\n",
    "    return map"
   ]
  },
  {
   "cell_type": "code",
   "execution_count": 205,
   "id": "f5c10345",
   "metadata": {},
   "outputs": [],
   "source": [
    "map = np.ones(10)"
   ]
  },
  {
   "cell_type": "code",
   "execution_count": 206,
   "id": "e42de2c9",
   "metadata": {},
   "outputs": [
    {
     "data": {
      "text/plain": [
       "array([0.1, 0.1, 0.1, 0.1, 0.1, 0.1, 0.1, 0.1, 0.1, 0.1])"
      ]
     },
     "execution_count": 206,
     "metadata": {},
     "output_type": "execute_result"
    }
   ],
   "source": [
    "map/10"
   ]
  },
  {
   "cell_type": "code",
   "execution_count": 207,
   "id": "6282a519",
   "metadata": {},
   "outputs": [],
   "source": [
    "t = orchestra['flute']['normal']['p'][70]['peaks']"
   ]
  },
  {
   "cell_type": "code",
   "execution_count": 209,
   "id": "b9be5883",
   "metadata": {},
   "outputs": [
    {
     "data": {
      "text/plain": [
       "array([ 46.3,  92.8, 139.2, 185.6, 232.1, 278.4, 324.9, 371.5, 417.9,\n",
       "       464.4])"
      ]
     },
     "execution_count": 209,
     "metadata": {},
     "output_type": "execute_result"
    }
   ],
   "source": [
    "t[0]/10"
   ]
  },
  {
   "cell_type": "code",
   "execution_count": 229,
   "id": "0ffa3c14",
   "metadata": {},
   "outputs": [],
   "source": [
    "test1 = fake_spec(orchestra['flute']['normal']['mf'][65]['peaks'])"
   ]
  },
  {
   "cell_type": "code",
   "execution_count": 230,
   "id": "81c4781b",
   "metadata": {},
   "outputs": [],
   "source": [
    "test2 = fake_spec(orchestra['flute']['normal']['p'][70]['peaks'])"
   ]
  },
  {
   "cell_type": "code",
   "execution_count": 231,
   "id": "21d5dc1c",
   "metadata": {},
   "outputs": [],
   "source": [
    "dist, cost_matrix, acc_cost_matrix, path = dtw(test1, test2, dist=l2_norm)"
   ]
  },
  {
   "cell_type": "code",
   "execution_count": 232,
   "id": "bbab3425",
   "metadata": {},
   "outputs": [
    {
     "data": {
      "text/plain": [
       "46953.60927222324"
      ]
     },
     "execution_count": 232,
     "metadata": {},
     "output_type": "execute_result"
    }
   ],
   "source": [
    "dist"
   ]
  },
  {
   "cell_type": "code",
   "execution_count": null,
   "id": "9a9085cb",
   "metadata": {},
   "outputs": [],
   "source": []
  }
 ],
 "metadata": {
  "kernelspec": {
   "display_name": "Python 3 (ipykernel)",
   "language": "python",
   "name": "python3"
  },
  "language_info": {
   "codemirror_mode": {
    "name": "ipython",
    "version": 3
   },
   "file_extension": ".py",
   "mimetype": "text/x-python",
   "name": "python",
   "nbconvert_exporter": "python",
   "pygments_lexer": "ipython3",
   "version": "3.10.0"
  }
 },
 "nbformat": 4,
 "nbformat_minor": 5
}
